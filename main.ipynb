{
 "cells": [
  {
   "cell_type": "code",
   "execution_count": 11,
   "id": "d1929f03",
   "metadata": {},
   "outputs": [],
   "source": [
    "#import libraries\n",
    "from bs4 import BeautifulSoup\n",
    "import requests\n",
    "import pandas\n",
    "import csv\n",
    "import pandas as pd\n",
    "import datetime"
   ]
  },
  {
   "cell_type": "code",
   "execution_count": 15,
   "id": "364bc222",
   "metadata": {},
   "outputs": [],
   "source": [
    "def scrape(url):\n",
    "\n",
    "    HEADERS = {\n",
    "        \"User-Agent\": (\n",
    "            \"Mozilla/5.0 (X11; Linux x86_64) \"\n",
    "            \"AppleWebKit/537.36 (KHTML, like Gecko) \"\n",
    "            \"Chrome/44.0.2403.157 Safari/537.36\"\n",
    "        ),\n",
    "        \"Accept-Language\": \"en-US,en;q=0.5\"\n",
    "    }\n",
    "\n",
    "    page = requests.get(url, headers=HEADERS)\n",
    "\n",
    "    soup = BeautifulSoup(page.content, \"lxml\")\n",
    "\n",
    "    #title\n",
    "    try:\n",
    "        title = soup.find(\"span\", attrs={\"id\": 'productTitle'})\n",
    "\n",
    "        title_value = title.string\n",
    "\n",
    "        title_string = title_value.strip().replace(',', '')\n",
    "\n",
    "    except AttributeError:\n",
    "        title_string = \"NA\"\n",
    "    \n",
    "    #price\n",
    "    try:\n",
    "        price = soup.find(\"span\", attrs= {\"id\": \"priceblock_ourprice\"}).string.strip().replace(\",\", \"\")\n",
    "    except AttributeError:\n",
    "        price = \"NA\"\n",
    "\n",
    "    today = datetime.date.today()\n",
    "\n",
    "    data = [title_string, price, today]\n",
    "\n",
    "    with open(\"AmazonWebScraperDataset.csv\", \"a+\", newline=\"\", encoding=\"UTF8\") as file:\n",
    "        writer = csv.writer(file)\n",
    "        writer.writerow(data)\n"
   ]
  },
  {
   "cell_type": "code",
   "execution_count": 16,
   "id": "9afc372c",
   "metadata": {},
   "outputs": [
    {
     "name": "stdout",
     "output_type": "stream",
     "text": [
      "Scraping: https://www.amazon.com/Data-Systems-Business-Analyst-T-Shirt/dp/B0B8Q8XWRH\n",
      "Scraping: https://www.amazon.com/dp/B0CNRKCGJN/ref=sspa_dk_detail_2?pd_rd_i=B0CNRKCGJN&pd_rd_w=Dk6bJ&content-id=amzn1.sym.85ceacba-39b1-4243-8f28-2e014f9512c7&pf_rd_p=85ceacba-39b1-4243-8f28-2e014f9512c7&pf_rd_r=5FZDY2Z4GE0N5Z8MTFBK&pd_rd_wg=WokQo&pd_rd_r=8851af75-23f2-4dc7-9bd8-70b88478fb20&sp_csd=d2lkZ2V0TmFtZT1zcF9kZXRhaWxfdGhlbWF0aWM&customId=B0752XJYNL&customizationToken=MC_Assembly_1%23B0752XJYNL&th=1&psc=1\n",
      "Scraping: https://www.amazon.com/dp/B0DMNGHL1R/ref=sspa_dk_browse_0/?_encoding=UTF8&ie=UTF8&sp_csd=d2lkZ2V0TmFtZT1zcF9icm93c2VfdGhlbWF0aWM%3D&pd_rd_w=vwFEL&content-id=amzn1.sym.fd52a9fc-262f-4b4c-af55-55a5a133ee00&pf_rd_p=fd52a9fc-262f-4b4c-af55-55a5a133ee00&pf_rd_r=TP7TE9CTGQEW5S6FD8YX&pd_rd_wg=fkafY&pd_rd_r=c887c06c-5549-470c-8ba6-8d81108b77b1&ref_=sspa_dk_browse&th=1&psc=1\n",
      "All products scrapped and saved :D\n"
     ]
    }
   ],
   "source": [
    "def main():\n",
    "    try:\n",
    "        with open(\"url.txt\", \"r\", encoding=\"UTF8\") as file:\n",
    "            urls = [line.strip() for line in file.readlines() if line.strip]\n",
    "    except FileNotFoundError:\n",
    "        print(\"File not found\")\n",
    "    \n",
    "    with open(\"AmazonWebScraperDataset.csv\", \"w\", newline=\"\", encoding=\"UTF8\") as file:\n",
    "        header = [\"Title\", \"Price\", \"Date\"]\n",
    "        writer = csv.writer(file)\n",
    "        writer.writerow(header)\n",
    "    \n",
    "    for url in urls:\n",
    "        print(f\"Scraping: {url}\")\n",
    "        scrape(url)\n",
    "    print(\"All products scrapped and saved :D\")\n",
    "\n",
    "if __name__ == \"__main__\":\n",
    "    main()"
   ]
  }
 ],
 "metadata": {
  "kernelspec": {
   "display_name": "Python 3",
   "language": "python",
   "name": "python3"
  },
  "language_info": {
   "codemirror_mode": {
    "name": "ipython",
    "version": 3
   },
   "file_extension": ".py",
   "mimetype": "text/x-python",
   "name": "python",
   "nbconvert_exporter": "python",
   "pygments_lexer": "ipython3",
   "version": "3.13.2"
  }
 },
 "nbformat": 4,
 "nbformat_minor": 5
}
